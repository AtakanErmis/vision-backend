{
 "cells": [
  {
   "metadata": {},
   "cell_type": "markdown",
   "source": [
    "Öncelikle requirements.txt dosyasındaki bağımlılıkları kuralım.\n",
    "\n",
    "`pip install -r requirements.txt`\n",
    "\n",
    "Daha sonra google translation api'larına erişim için gcloud komut satırı ile google hesabına giriş yapmamız gerekiyor.\n",
    "\n",
    "To configure ADC with a Google Account, you use the Google Cloud CLI:\n",
    "\n",
    "Install the Google Cloud CLI (https://cloud.google.com/sdk/docs/install), then initialize it by running the following command:\n",
    "\n",
    "`gcloud init`\n",
    "\n",
    "If you're using a local shell, then create local authentication credentials for your user account:\n",
    "\n",
    "`gcloud auth application-default login`\n",
    "\n",
    "`PROJECT_ID` alanına google cloud console'dan oluşturduğunuz proje id'sini yazmalısınız.\n"
   ],
   "id": "6df1a4597526ebef"
  },
  {
   "cell_type": "code",
   "id": "initial_id",
   "metadata": {
    "collapsed": true,
    "ExecuteTime": {
     "end_time": "2024-11-07T09:14:54.654210Z",
     "start_time": "2024-11-07T09:14:50.305515Z"
    }
   },
   "source": [
    "from google.cloud import translate_v3\n",
    "\n",
    "PROJECT_ID = \"nku-proje-i-vision\"\n",
    "\n",
    "# Initialize Translation client\n",
    "def translate_text(\n",
    "    text: str = \"YOUR_TEXT_TO_TRANSLATE\",\n",
    "    language_code: str = \"tr\",\n",
    ") -> translate_v3.TranslationServiceClient:\n",
    "    \"\"\"Translating Text from English.\n",
    "    Args:\n",
    "        text: The content to translate.\n",
    "        language_code: The language code for the translation.\n",
    "            E.g. \"fr\" for French, \"es\" for Spanish, etc.\n",
    "            Available languages: https://cloud.google.com/translate/docs/languages#neural_machine_translation_model\n",
    "    \"\"\"\n",
    "\n",
    "    client = translate_v3.TranslationServiceClient()\n",
    "    parent = f\"projects/{PROJECT_ID}/locations/global\"\n",
    "    # Translate text from English to chosen language\n",
    "    # Supported mime types: # https://cloud.google.com/translate/docs/supported-formats\n",
    "    response = client.translate_text(\n",
    "        contents=[text],\n",
    "        target_language_code=language_code,\n",
    "        parent=parent,\n",
    "        mime_type=\"text/plain\",\n",
    "        source_language_code=\"en-US\",\n",
    "    )\n",
    "\n",
    "    # Display the translation for each input text provided\n",
    "    for translation in response.translations:\n",
    "        print(f\"Translated text: {translation.translated_text}\")\n",
    "    # Example response:\n",
    "    # Translated text: Bonjour comment vas-tu aujourd'hui?\n",
    "\n",
    "    return response\n",
    "\n",
    "print(translate_text(\"Hello, how are you today?\", \"tr\"))"
   ],
   "outputs": [
    {
     "name": "stdout",
     "output_type": "stream",
     "text": [
      "Translated text: Merhaba, bugün nasılsınız?\n",
      "translations {\n",
      "  translated_text: \"Merhaba, bugün nasılsınız?\"\n",
      "}\n",
      "\n"
     ]
    }
   ],
   "execution_count": 1
  },
  {
   "metadata": {},
   "cell_type": "code",
   "outputs": [],
   "execution_count": null,
   "source": "",
   "id": "c53bc7139c939a08"
  },
  {
   "metadata": {},
   "cell_type": "code",
   "outputs": [],
   "execution_count": null,
   "source": "",
   "id": "bc1b2ec0dd94bbc9"
  }
 ],
 "metadata": {
  "kernelspec": {
   "display_name": "Python 3",
   "language": "python",
   "name": "python3"
  },
  "language_info": {
   "codemirror_mode": {
    "name": "ipython",
    "version": 2
   },
   "file_extension": ".py",
   "mimetype": "text/x-python",
   "name": "python",
   "nbconvert_exporter": "python",
   "pygments_lexer": "ipython2",
   "version": "2.7.6"
  }
 },
 "nbformat": 4,
 "nbformat_minor": 5
}
