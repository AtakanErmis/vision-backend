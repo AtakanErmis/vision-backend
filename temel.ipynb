{
 "cells": [
  {
   "cell_type": "code",
   "execution_count": 1,
   "metadata": {},
   "outputs": [
    {
     "name": "stderr",
     "output_type": "stream",
     "text": [
      "/home/desktop/Desktop/vscode/python/bitirme_projesi_I/.venv/lib/python3.12/site-packages/tqdm/auto.py:21: TqdmWarning: IProgress not found. Please update jupyter and ipywidgets. See https://ipywidgets.readthedocs.io/en/stable/user_install.html\n",
      "  from .autonotebook import tqdm as notebook_tqdm\n"
     ]
    }
   ],
   "source": [
    "from transformers import pipeline\n"
   ]
  },
  {
   "cell_type": "code",
   "execution_count": 44,
   "metadata": {},
   "outputs": [
    {
     "name": "stderr",
     "output_type": "stream",
     "text": [
      "/home/desktop/Desktop/vscode/python/bitirme_projesi_I/.venv/lib/python3.12/site-packages/transformers/models/marian/tokenization_marian.py:175: UserWarning: Recommended: pip install sacremoses.\n",
      "  warnings.warn(\"Recommended: pip install sacremoses.\")\n"
     ]
    }
   ],
   "source": [
    "\n",
    "translator_tr_en = pipeline(\"translation\", model=\"Helsinki-NLP/opus-mt-tr-en\")"
   ]
  },
  {
   "cell_type": "code",
   "execution_count": 45,
   "metadata": {},
   "outputs": [],
   "source": [
    "# Ana metod\n",
    "def translate_text(text, target_language):\n",
    "    if target_language == \"tr\":\n",
    "        return translator_tr_en(text)[0]['translation_text']\n",
    "    else:\n",
    "        raise ValueError(\"Unsupported language\")"
   ]
  },
  {
   "cell_type": "code",
   "execution_count": null,
   "metadata": {},
   "outputs": [
    {
     "name": "stdout",
     "output_type": "stream",
     "text": [
      "turk: My remote control tool is broken.\n",
      "french: Ma télécommande est cassée.\n",
      "spanish: Mi control remoto se averió.\n"
     ]
    }
   ],
   "source": [
    "#text = \"benim uzaktan kumandali aracim bozuldu\"\n",
    "\n",
    "#print(\"ingilizce:\", translate_text(text, \"en\"))\n",
    "#print(\"fransiz:\", translate_text(text, \"fr\"))\n",
    "#print(\"ispanyolca:\", translate_text(text, \"es\"))"
   ]
  },
  {
   "cell_type": "code",
   "execution_count": 14,
   "metadata": {},
   "outputs": [],
   "source": [
    "import easyocr"
   ]
  },
  {
   "cell_type": "code",
   "execution_count": 35,
   "metadata": {},
   "outputs": [
    {
     "name": "stderr",
     "output_type": "stream",
     "text": [
      "Neither CUDA nor MPS are available - defaulting to CPU. Note: This module is much faster with a GPU.\n",
      "Downloading recognition model, please wait. This may take several minutes depending upon your network connection.\n"
     ]
    },
    {
     "name": "stdout",
     "output_type": "stream",
     "text": [
      "Progress: |██████████████████████████████████████████████████| 100.0% Complete"
     ]
    }
   ],
   "source": [
    "reader = easyocr.Reader(['en','fr','es'])"
   ]
  },
  {
   "cell_type": "code",
   "execution_count": 38,
   "metadata": {},
   "outputs": [
    {
     "name": "stdout",
     "output_type": "stream",
     "text": [
      "Text: ['THRIFT STORE', 'SKILLI cENTERS AMERICA 0F']\n"
     ]
    }
   ],
   "source": [
    "result = reader.readtext('38.jpg',detail = 0, paragraph=True)\n",
    "print(f'Text: {result}')"
   ]
  },
  {
   "cell_type": "code",
   "execution_count": 46,
   "metadata": {},
   "outputs": [
    {
     "name": "stdout",
     "output_type": "stream",
     "text": [
      "ingilizce: THRIFT STORE\n"
     ]
    }
   ],
   "source": [
    "print(\"ingilizce:\", translate_text(result, \"tr\"))"
   ]
  },
  {
   "cell_type": "code",
   "execution_count": 43,
   "metadata": {},
   "outputs": [
    {
     "name": "stdout",
     "output_type": "stream",
     "text": [
      "['THRIFT STORE', 'SKILLI cENTERS AMERICA 0F']\n"
     ]
    }
   ],
   "source": [
    "print(result)"
   ]
  }
 ],
 "metadata": {
  "kernelspec": {
   "display_name": ".venv",
   "language": "python",
   "name": "python3"
  },
  "language_info": {
   "codemirror_mode": {
    "name": "ipython",
    "version": 3
   },
   "file_extension": ".py",
   "mimetype": "text/x-python",
   "name": "python",
   "nbconvert_exporter": "python",
   "pygments_lexer": "ipython3",
   "version": "3.12.7"
  }
 },
 "nbformat": 4,
 "nbformat_minor": 2
}
