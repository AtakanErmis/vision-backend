{
 "cells": [
  {
   "cell_type": "code",
   "metadata": {
    "ExecuteTime": {
     "end_time": "2024-11-07T10:50:22.832424Z",
     "start_time": "2024-11-07T10:50:22.821784Z"
    }
   },
   "source": "import easyocr",
   "outputs": [],
   "execution_count": 6
  },
  {
   "cell_type": "code",
   "metadata": {
    "ExecuteTime": {
     "end_time": "2024-11-07T10:50:30.646390Z",
     "start_time": "2024-11-07T10:50:27.938541Z"
    }
   },
   "source": [
    "reader = easyocr.Reader(['en','fr','es'])"
   ],
   "outputs": [],
   "execution_count": 7
  },
  {
   "cell_type": "code",
   "metadata": {
    "ExecuteTime": {
     "end_time": "2024-11-07T10:50:31.386662Z",
     "start_time": "2024-11-07T10:50:31.303571Z"
    }
   },
   "source": [
    "result = reader.readtext('38.jpg',detail = 0, paragraph=True)\n",
    "print(f'Text: {result}')"
   ],
   "outputs": [
    {
     "ename": "RuntimeError",
     "evalue": "Numpy is not available",
     "output_type": "error",
     "traceback": [
      "\u001B[0;31m---------------------------------------------------------------------------\u001B[0m",
      "\u001B[0;31mRuntimeError\u001B[0m                              Traceback (most recent call last)",
      "Cell \u001B[0;32mIn[8], line 1\u001B[0m\n\u001B[0;32m----> 1\u001B[0m result \u001B[38;5;241m=\u001B[39m \u001B[43mreader\u001B[49m\u001B[38;5;241;43m.\u001B[39;49m\u001B[43mreadtext\u001B[49m\u001B[43m(\u001B[49m\u001B[38;5;124;43m'\u001B[39;49m\u001B[38;5;124;43m38.jpg\u001B[39;49m\u001B[38;5;124;43m'\u001B[39;49m\u001B[43m,\u001B[49m\u001B[43mdetail\u001B[49m\u001B[43m \u001B[49m\u001B[38;5;241;43m=\u001B[39;49m\u001B[43m \u001B[49m\u001B[38;5;241;43m0\u001B[39;49m\u001B[43m,\u001B[49m\u001B[43m \u001B[49m\u001B[43mparagraph\u001B[49m\u001B[38;5;241;43m=\u001B[39;49m\u001B[38;5;28;43;01mTrue\u001B[39;49;00m\u001B[43m)\u001B[49m\n\u001B[1;32m      2\u001B[0m \u001B[38;5;28mprint\u001B[39m(\u001B[38;5;124mf\u001B[39m\u001B[38;5;124m'\u001B[39m\u001B[38;5;124mText: \u001B[39m\u001B[38;5;132;01m{\u001B[39;00mresult\u001B[38;5;132;01m}\u001B[39;00m\u001B[38;5;124m'\u001B[39m)\n",
      "File \u001B[0;32m~/Code/Personal/Proje1/.venv/lib/python3.12/site-packages/easyocr/easyocr.py:456\u001B[0m, in \u001B[0;36mReader.readtext\u001B[0;34m(self, image, decoder, beamWidth, batch_size, workers, allowlist, blocklist, detail, rotation_info, paragraph, min_size, contrast_ths, adjust_contrast, filter_ths, text_threshold, low_text, link_threshold, canvas_size, mag_ratio, slope_ths, ycenter_ths, height_ths, width_ths, y_ths, x_ths, add_margin, threshold, bbox_min_score, bbox_min_size, max_candidates, output_format)\u001B[0m\n\u001B[1;32m    450\u001B[0m \u001B[38;5;250m\u001B[39m\u001B[38;5;124;03m'''\u001B[39;00m\n\u001B[1;32m    451\u001B[0m \u001B[38;5;124;03mParameters:\u001B[39;00m\n\u001B[1;32m    452\u001B[0m \u001B[38;5;124;03mimage: file path or numpy-array or a byte stream object\u001B[39;00m\n\u001B[1;32m    453\u001B[0m \u001B[38;5;124;03m'''\u001B[39;00m\n\u001B[1;32m    454\u001B[0m img, img_cv_grey \u001B[38;5;241m=\u001B[39m reformat_input(image)\n\u001B[0;32m--> 456\u001B[0m horizontal_list, free_list \u001B[38;5;241m=\u001B[39m \u001B[38;5;28;43mself\u001B[39;49m\u001B[38;5;241;43m.\u001B[39;49m\u001B[43mdetect\u001B[49m\u001B[43m(\u001B[49m\u001B[43mimg\u001B[49m\u001B[43m,\u001B[49m\u001B[43m \u001B[49m\n\u001B[1;32m    457\u001B[0m \u001B[43m                                         \u001B[49m\u001B[43mmin_size\u001B[49m\u001B[43m \u001B[49m\u001B[38;5;241;43m=\u001B[39;49m\u001B[43m \u001B[49m\u001B[43mmin_size\u001B[49m\u001B[43m,\u001B[49m\u001B[43m \u001B[49m\u001B[43mtext_threshold\u001B[49m\u001B[43m \u001B[49m\u001B[38;5;241;43m=\u001B[39;49m\u001B[43m \u001B[49m\u001B[43mtext_threshold\u001B[49m\u001B[43m,\u001B[49m\u001B[43m\\\u001B[49m\n\u001B[1;32m    458\u001B[0m \u001B[43m                                         \u001B[49m\u001B[43mlow_text\u001B[49m\u001B[43m \u001B[49m\u001B[38;5;241;43m=\u001B[39;49m\u001B[43m \u001B[49m\u001B[43mlow_text\u001B[49m\u001B[43m,\u001B[49m\u001B[43m \u001B[49m\u001B[43mlink_threshold\u001B[49m\u001B[43m \u001B[49m\u001B[38;5;241;43m=\u001B[39;49m\u001B[43m \u001B[49m\u001B[43mlink_threshold\u001B[49m\u001B[43m,\u001B[49m\u001B[43m\\\u001B[49m\n\u001B[1;32m    459\u001B[0m \u001B[43m                                         \u001B[49m\u001B[43mcanvas_size\u001B[49m\u001B[43m \u001B[49m\u001B[38;5;241;43m=\u001B[39;49m\u001B[43m \u001B[49m\u001B[43mcanvas_size\u001B[49m\u001B[43m,\u001B[49m\u001B[43m \u001B[49m\u001B[43mmag_ratio\u001B[49m\u001B[43m \u001B[49m\u001B[38;5;241;43m=\u001B[39;49m\u001B[43m \u001B[49m\u001B[43mmag_ratio\u001B[49m\u001B[43m,\u001B[49m\u001B[43m\\\u001B[49m\n\u001B[1;32m    460\u001B[0m \u001B[43m                                         \u001B[49m\u001B[43mslope_ths\u001B[49m\u001B[43m \u001B[49m\u001B[38;5;241;43m=\u001B[39;49m\u001B[43m \u001B[49m\u001B[43mslope_ths\u001B[49m\u001B[43m,\u001B[49m\u001B[43m \u001B[49m\u001B[43mycenter_ths\u001B[49m\u001B[43m \u001B[49m\u001B[38;5;241;43m=\u001B[39;49m\u001B[43m \u001B[49m\u001B[43mycenter_ths\u001B[49m\u001B[43m,\u001B[49m\u001B[43m\\\u001B[49m\n\u001B[1;32m    461\u001B[0m \u001B[43m                                         \u001B[49m\u001B[43mheight_ths\u001B[49m\u001B[43m \u001B[49m\u001B[38;5;241;43m=\u001B[39;49m\u001B[43m \u001B[49m\u001B[43mheight_ths\u001B[49m\u001B[43m,\u001B[49m\u001B[43m \u001B[49m\u001B[43mwidth_ths\u001B[49m\u001B[38;5;241;43m=\u001B[39;49m\u001B[43m \u001B[49m\u001B[43mwidth_ths\u001B[49m\u001B[43m,\u001B[49m\u001B[43m\\\u001B[49m\n\u001B[1;32m    462\u001B[0m \u001B[43m                                         \u001B[49m\u001B[43madd_margin\u001B[49m\u001B[43m \u001B[49m\u001B[38;5;241;43m=\u001B[39;49m\u001B[43m \u001B[49m\u001B[43madd_margin\u001B[49m\u001B[43m,\u001B[49m\u001B[43m \u001B[49m\u001B[43mreformat\u001B[49m\u001B[43m \u001B[49m\u001B[38;5;241;43m=\u001B[39;49m\u001B[43m \u001B[49m\u001B[38;5;28;43;01mFalse\u001B[39;49;00m\u001B[43m,\u001B[49m\u001B[43m\\\u001B[49m\n\u001B[1;32m    463\u001B[0m \u001B[43m                                         \u001B[49m\u001B[43mthreshold\u001B[49m\u001B[43m \u001B[49m\u001B[38;5;241;43m=\u001B[39;49m\u001B[43m \u001B[49m\u001B[43mthreshold\u001B[49m\u001B[43m,\u001B[49m\u001B[43m \u001B[49m\u001B[43mbbox_min_score\u001B[49m\u001B[43m \u001B[49m\u001B[38;5;241;43m=\u001B[39;49m\u001B[43m \u001B[49m\u001B[43mbbox_min_score\u001B[49m\u001B[43m,\u001B[49m\u001B[43m\\\u001B[49m\n\u001B[1;32m    464\u001B[0m \u001B[43m                                         \u001B[49m\u001B[43mbbox_min_size\u001B[49m\u001B[43m \u001B[49m\u001B[38;5;241;43m=\u001B[39;49m\u001B[43m \u001B[49m\u001B[43mbbox_min_size\u001B[49m\u001B[43m,\u001B[49m\u001B[43m \u001B[49m\u001B[43mmax_candidates\u001B[49m\u001B[43m \u001B[49m\u001B[38;5;241;43m=\u001B[39;49m\u001B[43m \u001B[49m\u001B[43mmax_candidates\u001B[49m\n\u001B[1;32m    465\u001B[0m \u001B[43m                                         \u001B[49m\u001B[43m)\u001B[49m\n\u001B[1;32m    466\u001B[0m \u001B[38;5;66;03m# get the 1st result from hor & free list as self.detect returns a list of depth 3\u001B[39;00m\n\u001B[1;32m    467\u001B[0m horizontal_list, free_list \u001B[38;5;241m=\u001B[39m horizontal_list[\u001B[38;5;241m0\u001B[39m], free_list[\u001B[38;5;241m0\u001B[39m]\n",
      "File \u001B[0;32m~/Code/Personal/Proje1/.venv/lib/python3.12/site-packages/easyocr/easyocr.py:321\u001B[0m, in \u001B[0;36mReader.detect\u001B[0;34m(self, img, min_size, text_threshold, low_text, link_threshold, canvas_size, mag_ratio, slope_ths, ycenter_ths, height_ths, width_ths, add_margin, reformat, optimal_num_chars, threshold, bbox_min_score, bbox_min_size, max_candidates)\u001B[0m\n\u001B[1;32m    318\u001B[0m \u001B[38;5;28;01mif\u001B[39;00m reformat:\n\u001B[1;32m    319\u001B[0m     img, img_cv_grey \u001B[38;5;241m=\u001B[39m reformat_input(img)\n\u001B[0;32m--> 321\u001B[0m text_box_list \u001B[38;5;241m=\u001B[39m \u001B[38;5;28;43mself\u001B[39;49m\u001B[38;5;241;43m.\u001B[39;49m\u001B[43mget_textbox\u001B[49m\u001B[43m(\u001B[49m\u001B[38;5;28;43mself\u001B[39;49m\u001B[38;5;241;43m.\u001B[39;49m\u001B[43mdetector\u001B[49m\u001B[43m,\u001B[49m\u001B[43m \u001B[49m\n\u001B[1;32m    322\u001B[0m \u001B[43m                            \u001B[49m\u001B[43mimg\u001B[49m\u001B[43m,\u001B[49m\u001B[43m \u001B[49m\n\u001B[1;32m    323\u001B[0m \u001B[43m                            \u001B[49m\u001B[43mcanvas_size\u001B[49m\u001B[43m \u001B[49m\u001B[38;5;241;43m=\u001B[39;49m\u001B[43m \u001B[49m\u001B[43mcanvas_size\u001B[49m\u001B[43m,\u001B[49m\u001B[43m \u001B[49m\n\u001B[1;32m    324\u001B[0m \u001B[43m                            \u001B[49m\u001B[43mmag_ratio\u001B[49m\u001B[43m \u001B[49m\u001B[38;5;241;43m=\u001B[39;49m\u001B[43m \u001B[49m\u001B[43mmag_ratio\u001B[49m\u001B[43m,\u001B[49m\n\u001B[1;32m    325\u001B[0m \u001B[43m                            \u001B[49m\u001B[43mtext_threshold\u001B[49m\u001B[43m \u001B[49m\u001B[38;5;241;43m=\u001B[39;49m\u001B[43m \u001B[49m\u001B[43mtext_threshold\u001B[49m\u001B[43m,\u001B[49m\u001B[43m \u001B[49m\n\u001B[1;32m    326\u001B[0m \u001B[43m                            \u001B[49m\u001B[43mlink_threshold\u001B[49m\u001B[43m \u001B[49m\u001B[38;5;241;43m=\u001B[39;49m\u001B[43m \u001B[49m\u001B[43mlink_threshold\u001B[49m\u001B[43m,\u001B[49m\u001B[43m \u001B[49m\n\u001B[1;32m    327\u001B[0m \u001B[43m                            \u001B[49m\u001B[43mlow_text\u001B[49m\u001B[43m \u001B[49m\u001B[38;5;241;43m=\u001B[39;49m\u001B[43m \u001B[49m\u001B[43mlow_text\u001B[49m\u001B[43m,\u001B[49m\n\u001B[1;32m    328\u001B[0m \u001B[43m                            \u001B[49m\u001B[43mpoly\u001B[49m\u001B[43m \u001B[49m\u001B[38;5;241;43m=\u001B[39;49m\u001B[43m \u001B[49m\u001B[38;5;28;43;01mFalse\u001B[39;49;00m\u001B[43m,\u001B[49m\u001B[43m \u001B[49m\n\u001B[1;32m    329\u001B[0m \u001B[43m                            \u001B[49m\u001B[43mdevice\u001B[49m\u001B[43m \u001B[49m\u001B[38;5;241;43m=\u001B[39;49m\u001B[43m \u001B[49m\u001B[38;5;28;43mself\u001B[39;49m\u001B[38;5;241;43m.\u001B[39;49m\u001B[43mdevice\u001B[49m\u001B[43m,\u001B[49m\u001B[43m \u001B[49m\n\u001B[1;32m    330\u001B[0m \u001B[43m                            \u001B[49m\u001B[43moptimal_num_chars\u001B[49m\u001B[43m \u001B[49m\u001B[38;5;241;43m=\u001B[39;49m\u001B[43m \u001B[49m\u001B[43moptimal_num_chars\u001B[49m\u001B[43m,\u001B[49m\n\u001B[1;32m    331\u001B[0m \u001B[43m                            \u001B[49m\u001B[43mthreshold\u001B[49m\u001B[43m \u001B[49m\u001B[38;5;241;43m=\u001B[39;49m\u001B[43m \u001B[49m\u001B[43mthreshold\u001B[49m\u001B[43m,\u001B[49m\u001B[43m \u001B[49m\n\u001B[1;32m    332\u001B[0m \u001B[43m                            \u001B[49m\u001B[43mbbox_min_score\u001B[49m\u001B[43m \u001B[49m\u001B[38;5;241;43m=\u001B[39;49m\u001B[43m \u001B[49m\u001B[43mbbox_min_score\u001B[49m\u001B[43m,\u001B[49m\u001B[43m \u001B[49m\n\u001B[1;32m    333\u001B[0m \u001B[43m                            \u001B[49m\u001B[43mbbox_min_size\u001B[49m\u001B[43m \u001B[49m\u001B[38;5;241;43m=\u001B[39;49m\u001B[43m \u001B[49m\u001B[43mbbox_min_size\u001B[49m\u001B[43m,\u001B[49m\u001B[43m \u001B[49m\n\u001B[1;32m    334\u001B[0m \u001B[43m                            \u001B[49m\u001B[43mmax_candidates\u001B[49m\u001B[43m \u001B[49m\u001B[38;5;241;43m=\u001B[39;49m\u001B[43m \u001B[49m\u001B[43mmax_candidates\u001B[49m\u001B[43m,\u001B[49m\n\u001B[1;32m    335\u001B[0m \u001B[43m                            \u001B[49m\u001B[43m)\u001B[49m\n\u001B[1;32m    337\u001B[0m horizontal_list_agg, free_list_agg \u001B[38;5;241m=\u001B[39m [], []\n\u001B[1;32m    338\u001B[0m \u001B[38;5;28;01mfor\u001B[39;00m text_box \u001B[38;5;129;01min\u001B[39;00m text_box_list:\n",
      "File \u001B[0;32m~/Code/Personal/Proje1/.venv/lib/python3.12/site-packages/easyocr/detection.py:95\u001B[0m, in \u001B[0;36mget_textbox\u001B[0;34m(detector, image, canvas_size, mag_ratio, text_threshold, link_threshold, low_text, poly, device, optimal_num_chars, **kwargs)\u001B[0m\n\u001B[1;32m     93\u001B[0m result \u001B[38;5;241m=\u001B[39m []\n\u001B[1;32m     94\u001B[0m estimate_num_chars \u001B[38;5;241m=\u001B[39m optimal_num_chars \u001B[38;5;129;01mis\u001B[39;00m \u001B[38;5;129;01mnot\u001B[39;00m \u001B[38;5;28;01mNone\u001B[39;00m\n\u001B[0;32m---> 95\u001B[0m bboxes_list, polys_list \u001B[38;5;241m=\u001B[39m \u001B[43mtest_net\u001B[49m\u001B[43m(\u001B[49m\u001B[43mcanvas_size\u001B[49m\u001B[43m,\u001B[49m\u001B[43m \u001B[49m\u001B[43mmag_ratio\u001B[49m\u001B[43m,\u001B[49m\u001B[43m \u001B[49m\u001B[43mdetector\u001B[49m\u001B[43m,\u001B[49m\n\u001B[1;32m     96\u001B[0m \u001B[43m                                   \u001B[49m\u001B[43mimage\u001B[49m\u001B[43m,\u001B[49m\u001B[43m \u001B[49m\u001B[43mtext_threshold\u001B[49m\u001B[43m,\u001B[49m\n\u001B[1;32m     97\u001B[0m \u001B[43m                                   \u001B[49m\u001B[43mlink_threshold\u001B[49m\u001B[43m,\u001B[49m\u001B[43m \u001B[49m\u001B[43mlow_text\u001B[49m\u001B[43m,\u001B[49m\u001B[43m \u001B[49m\u001B[43mpoly\u001B[49m\u001B[43m,\u001B[49m\n\u001B[1;32m     98\u001B[0m \u001B[43m                                   \u001B[49m\u001B[43mdevice\u001B[49m\u001B[43m,\u001B[49m\u001B[43m \u001B[49m\u001B[43mestimate_num_chars\u001B[49m\u001B[43m)\u001B[49m\n\u001B[1;32m     99\u001B[0m \u001B[38;5;28;01mif\u001B[39;00m estimate_num_chars:\n\u001B[1;32m    100\u001B[0m     polys_list \u001B[38;5;241m=\u001B[39m [[p \u001B[38;5;28;01mfor\u001B[39;00m p, _ \u001B[38;5;129;01min\u001B[39;00m \u001B[38;5;28msorted\u001B[39m(polys, key\u001B[38;5;241m=\u001B[39m\u001B[38;5;28;01mlambda\u001B[39;00m x: \u001B[38;5;28mabs\u001B[39m(optimal_num_chars \u001B[38;5;241m-\u001B[39m x[\u001B[38;5;241m1\u001B[39m]))]\n\u001B[1;32m    101\u001B[0m                   \u001B[38;5;28;01mfor\u001B[39;00m polys \u001B[38;5;129;01min\u001B[39;00m polys_list]\n",
      "File \u001B[0;32m~/Code/Personal/Proje1/.venv/lib/python3.12/site-packages/easyocr/detection.py:41\u001B[0m, in \u001B[0;36mtest_net\u001B[0;34m(canvas_size, mag_ratio, net, image, text_threshold, link_threshold, low_text, poly, device, estimate_num_chars)\u001B[0m\n\u001B[1;32m     38\u001B[0m \u001B[38;5;66;03m# preprocessing\u001B[39;00m\n\u001B[1;32m     39\u001B[0m x \u001B[38;5;241m=\u001B[39m [np\u001B[38;5;241m.\u001B[39mtranspose(normalizeMeanVariance(n_img), (\u001B[38;5;241m2\u001B[39m, \u001B[38;5;241m0\u001B[39m, \u001B[38;5;241m1\u001B[39m))\n\u001B[1;32m     40\u001B[0m      \u001B[38;5;28;01mfor\u001B[39;00m n_img \u001B[38;5;129;01min\u001B[39;00m img_resized_list]\n\u001B[0;32m---> 41\u001B[0m x \u001B[38;5;241m=\u001B[39m \u001B[43mtorch\u001B[49m\u001B[38;5;241;43m.\u001B[39;49m\u001B[43mfrom_numpy\u001B[49m\u001B[43m(\u001B[49m\u001B[43mnp\u001B[49m\u001B[38;5;241;43m.\u001B[39;49m\u001B[43marray\u001B[49m\u001B[43m(\u001B[49m\u001B[43mx\u001B[49m\u001B[43m)\u001B[49m\u001B[43m)\u001B[49m\n\u001B[1;32m     42\u001B[0m x \u001B[38;5;241m=\u001B[39m x\u001B[38;5;241m.\u001B[39mto(device)\n\u001B[1;32m     44\u001B[0m \u001B[38;5;66;03m# forward pass\u001B[39;00m\n",
      "\u001B[0;31mRuntimeError\u001B[0m: Numpy is not available"
     ]
    }
   ],
   "execution_count": 8
  },
  {
   "cell_type": "code",
   "execution_count": 46,
   "metadata": {},
   "outputs": [
    {
     "name": "stdout",
     "output_type": "stream",
     "text": [
      "ingilizce: THRIFT STORE\n"
     ]
    }
   ],
   "source": [
    "print(\"ingilizce:\", translate_text(result, \"tr\"))"
   ]
  },
  {
   "cell_type": "code",
   "execution_count": 43,
   "metadata": {},
   "outputs": [
    {
     "name": "stdout",
     "output_type": "stream",
     "text": [
      "['THRIFT STORE', 'SKILLI cENTERS AMERICA 0F']\n"
     ]
    }
   ],
   "source": [
    "print(result)"
   ]
  }
 ],
 "metadata": {
  "kernelspec": {
   "display_name": ".venv",
   "language": "python",
   "name": "python3"
  },
  "language_info": {
   "codemirror_mode": {
    "name": "ipython",
    "version": 3
   },
   "file_extension": ".py",
   "mimetype": "text/x-python",
   "name": "python",
   "nbconvert_exporter": "python",
   "pygments_lexer": "ipython3",
   "version": "3.12.7"
  }
 },
 "nbformat": 4,
 "nbformat_minor": 2
}
